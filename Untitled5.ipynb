{
 "cells": [
  {
   "cell_type": "code",
   "execution_count": 1,
   "metadata": {},
   "outputs": [],
   "source": [
    "import numpy as np\n",
    "import scipy as sp\n",
    "import pandas as pd\n",
    "import random\n",
    "import seaborn as sns\n",
    "import re\n",
    "import matplotlib.pyplot as plt\n",
    "%matplotlib inline"
   ]
  },
  {
   "cell_type": "code",
   "execution_count": 2,
   "metadata": {},
   "outputs": [
    {
     "data": {
      "text/html": [
       "<div>\n",
       "<style scoped>\n",
       "    .dataframe tbody tr th:only-of-type {\n",
       "        vertical-align: middle;\n",
       "    }\n",
       "\n",
       "    .dataframe tbody tr th {\n",
       "        vertical-align: top;\n",
       "    }\n",
       "\n",
       "    .dataframe thead th {\n",
       "        text-align: right;\n",
       "    }\n",
       "</style>\n",
       "<table border=\"1\" class=\"dataframe\">\n",
       "  <thead>\n",
       "    <tr style=\"text-align: right;\">\n",
       "      <th></th>\n",
       "      <th>Unnamed: 0</th>\n",
       "      <th>score_phrase</th>\n",
       "      <th>title</th>\n",
       "      <th>url</th>\n",
       "      <th>platform</th>\n",
       "      <th>score</th>\n",
       "      <th>genre</th>\n",
       "      <th>editors_choice</th>\n",
       "      <th>release_year</th>\n",
       "      <th>release_month</th>\n",
       "      <th>release_day</th>\n",
       "    </tr>\n",
       "  </thead>\n",
       "  <tbody>\n",
       "    <tr>\n",
       "      <th>0</th>\n",
       "      <td>0</td>\n",
       "      <td>Amazing</td>\n",
       "      <td>LittleBigPlanet PS Vita</td>\n",
       "      <td>/games/littlebigplanet-vita/vita-98907</td>\n",
       "      <td>PlayStation Vita</td>\n",
       "      <td>9.0</td>\n",
       "      <td>Platformer</td>\n",
       "      <td>Y</td>\n",
       "      <td>2012</td>\n",
       "      <td>9</td>\n",
       "      <td>12</td>\n",
       "    </tr>\n",
       "    <tr>\n",
       "      <th>1</th>\n",
       "      <td>1</td>\n",
       "      <td>Amazing</td>\n",
       "      <td>LittleBigPlanet PS Vita -- Marvel Super Hero E...</td>\n",
       "      <td>/games/littlebigplanet-ps-vita-marvel-super-he...</td>\n",
       "      <td>PlayStation Vita</td>\n",
       "      <td>9.0</td>\n",
       "      <td>Platformer</td>\n",
       "      <td>Y</td>\n",
       "      <td>2012</td>\n",
       "      <td>9</td>\n",
       "      <td>12</td>\n",
       "    </tr>\n",
       "    <tr>\n",
       "      <th>2</th>\n",
       "      <td>2</td>\n",
       "      <td>Great</td>\n",
       "      <td>Splice: Tree of Life</td>\n",
       "      <td>/games/splice/ipad-141070</td>\n",
       "      <td>iPad</td>\n",
       "      <td>8.5</td>\n",
       "      <td>Puzzle</td>\n",
       "      <td>N</td>\n",
       "      <td>2012</td>\n",
       "      <td>9</td>\n",
       "      <td>12</td>\n",
       "    </tr>\n",
       "    <tr>\n",
       "      <th>3</th>\n",
       "      <td>3</td>\n",
       "      <td>Great</td>\n",
       "      <td>NHL 13</td>\n",
       "      <td>/games/nhl-13/xbox-360-128182</td>\n",
       "      <td>Xbox 360</td>\n",
       "      <td>8.5</td>\n",
       "      <td>Sports</td>\n",
       "      <td>N</td>\n",
       "      <td>2012</td>\n",
       "      <td>9</td>\n",
       "      <td>11</td>\n",
       "    </tr>\n",
       "    <tr>\n",
       "      <th>4</th>\n",
       "      <td>4</td>\n",
       "      <td>Great</td>\n",
       "      <td>NHL 13</td>\n",
       "      <td>/games/nhl-13/ps3-128181</td>\n",
       "      <td>PlayStation 3</td>\n",
       "      <td>8.5</td>\n",
       "      <td>Sports</td>\n",
       "      <td>N</td>\n",
       "      <td>2012</td>\n",
       "      <td>9</td>\n",
       "      <td>11</td>\n",
       "    </tr>\n",
       "  </tbody>\n",
       "</table>\n",
       "</div>"
      ],
      "text/plain": [
       "   Unnamed: 0 score_phrase                                              title  \\\n",
       "0           0      Amazing                            LittleBigPlanet PS Vita   \n",
       "1           1      Amazing  LittleBigPlanet PS Vita -- Marvel Super Hero E...   \n",
       "2           2        Great                               Splice: Tree of Life   \n",
       "3           3        Great                                             NHL 13   \n",
       "4           4        Great                                             NHL 13   \n",
       "\n",
       "                                                 url          platform  score  \\\n",
       "0             /games/littlebigplanet-vita/vita-98907  PlayStation Vita    9.0   \n",
       "1  /games/littlebigplanet-ps-vita-marvel-super-he...  PlayStation Vita    9.0   \n",
       "2                          /games/splice/ipad-141070              iPad    8.5   \n",
       "3                      /games/nhl-13/xbox-360-128182          Xbox 360    8.5   \n",
       "4                           /games/nhl-13/ps3-128181     PlayStation 3    8.5   \n",
       "\n",
       "        genre editors_choice  release_year  release_month  release_day  \n",
       "0  Platformer              Y          2012              9           12  \n",
       "1  Platformer              Y          2012              9           12  \n",
       "2      Puzzle              N          2012              9           12  \n",
       "3      Sports              N          2012              9           11  \n",
       "4      Sports              N          2012              9           11  "
      ]
     },
     "execution_count": 2,
     "metadata": {},
     "output_type": "execute_result"
    }
   ],
   "source": [
    "df = pd.read_csv('ign.csv')\n",
    "df.head()"
   ]
  },
  {
   "cell_type": "code",
   "execution_count": 3,
   "metadata": {},
   "outputs": [
    {
     "data": {
      "text/plain": [
       "Action                      3797\n",
       "Sports                      1916\n",
       "Shooter                     1610\n",
       "Racing                      1228\n",
       "Adventure                   1175\n",
       "Strategy                    1071\n",
       "RPG                          980\n",
       "Platformer                   823\n",
       "Puzzle                       776\n",
       "Action, Adventure            765\n",
       "Simulation                   567\n",
       "Fighting                     547\n",
       "Music                        371\n",
       "Action, RPG                  330\n",
       "Racing, Action               210\n",
       "Puzzle, Action               200\n",
       "Sports, Action               196\n",
       "Party                        141\n",
       "Wrestling                    134\n",
       "Flight, Action               125\n",
       "Trivia                       119\n",
       "Board                        116\n",
       "Hunting                      112\n",
       "Card                         108\n",
       "Action, Compilation           89\n",
       "Virtual Pet                   82\n",
       "Strategy, RPG                 77\n",
       "Fighting, Action              77\n",
       "Pinball                       77\n",
       "Compilation                   54\n",
       "                            ... \n",
       "Racing, Shooter                2\n",
       "Compilation, RPG               2\n",
       "Hunting, Action                2\n",
       "Compilation, Compilation       1\n",
       "Action, Editor                 1\n",
       "Shooter, Adventure             1\n",
       "Puzzle, RPG                    1\n",
       "Sports, Fighting               1\n",
       "Sports, Golf                   1\n",
       "Strategy, Simulation           1\n",
       "Other, Action                  1\n",
       "Strategy, Compilation          1\n",
       "Educational, Card              1\n",
       "Adventure, Adult               1\n",
       "Hunting, Simulation            1\n",
       "Sports, Other                  1\n",
       "Other, Adventure               1\n",
       "Music, Adventure               1\n",
       "RPG, Action                    1\n",
       "Wrestling, Simulation          1\n",
       "Baseball                       1\n",
       "Action, Strategy               1\n",
       "Puzzle, Platformer             1\n",
       "Simulation, Adventure          1\n",
       "Action, Puzzle                 1\n",
       "Pinball, Compilation           1\n",
       "Music, RPG                     1\n",
       "Adventure, Platformer          1\n",
       "Sports, Editor                 1\n",
       "Sports, Party                  1\n",
       "Name: genre, Length: 112, dtype: int64"
      ]
     },
     "execution_count": 3,
     "metadata": {},
     "output_type": "execute_result"
    }
   ],
   "source": [
    "df['genre'].value_counts()"
   ]
  },
  {
   "cell_type": "code",
   "execution_count": 4,
   "metadata": {},
   "outputs": [],
   "source": [
    "Action = [\"Action\", \"Other, Action\", \"Action, Adventure\", \"Action Compilation\", \"Action, Editor\", \"Action, Strategy\", \"Action, Puzzle\", \"Action, RPG\"]\n",
    "Sports = [\"Sports\", \"Sports, Action\", \"Wrestling\", \"Hunting\", \"Sports, Golf\", \"Baseball\", \"Sports, Party\", \"Sports, Editor\", \"Sports, Other\", \"Sports, Fighting\"] \n",
    "Shooter = [\"Shooter\", \"Shooter, Adventure\"]                    \n",
    "Racing = [\"Racing\", \"Racing, Action\"]\n",
    "Adventure = [\"Adventure\", \"Adventure, Adult\", \"Other, Adventure\"]\n",
    "Strategy = [\"Strategy\", \"Strategy, RPG\", \"Strategy, Compilation\", \"Strategy, Simulation\"]\n",
    "RPG = [\"RPG\", \"Compilation, RPG\", \"RPG, Action\"]                       \n",
    "Platformer = [\"Platformer\"]                  \n",
    "Puzzle = [\"Puzzle\", \"Puzzle, Action\", \"Puzzle, RPG\",\"Puzzle, Platformer\"]\n",
    "Simulation = [\"Simulation\", \"Virtual Pet\", \"Hunting, Simulation\", \"Wrestling, Simulation\", \"Simulation, Adventure\", \"Flight, Action\"]\n",
    "Music = [\"Music\", \"Music, RPG\", \"Music, Adventure\"]\n",
    "Games = [\"Trivia\", \"Board\", \"Card\", \"Pinball\", \"Card, Battle\" \"Pinball, Compilation\"]\n",
    "Fighting = [\"Fighting\", \"Fighting, Action\"]\n",
    "Education = [\"Educational, Trivia\", \"Educational, Card\"]\n",
    "           \n",
    "def mapping(item):\n",
    "    if item in Action:\n",
    "        return \"Action\"\n",
    "    if item in Sports:\n",
    "        return \"Sports\"\n",
    "    if item in Shooter:\n",
    "        return \"Shooter\"\n",
    "    if item in Racing:\n",
    "        return \"Racing\"\n",
    "    if item in Adventure:\n",
    "        return \"Adventure\"\n",
    "    if item in Strategy:\n",
    "        return \"Strategy\"\n",
    "    if item in RPG:\n",
    "        return \"RPG\"\n",
    "    if item in Platformer:\n",
    "        return \"Platformer\"\n",
    "    if item in Puzzle:\n",
    "        return \"Puzzle\"\n",
    "    if item in Simulation:\n",
    "        return \"Simulation\"\n",
    "    if item in Music:\n",
    "        return \"Music\"\n",
    "    if item in Games:\n",
    "        return \"Games\"\n",
    "    if item in Fighting:\n",
    "        return \"Fighting\"\n",
    "    if item in Education:\n",
    "        return \"Education\"\n",
    "    return \"Other\"\n",
    "\n",
    "df[\"Type\"] = df[\"genre\"].map(mapping)"
   ]
  },
  {
   "cell_type": "code",
   "execution_count": 5,
   "metadata": {},
   "outputs": [
    {
     "data": {
      "text/plain": [
       "Action        4896\n",
       "Sports        2364\n",
       "Shooter       1611\n",
       "Racing        1438\n",
       "Adventure     1177\n",
       "Strategy      1150\n",
       "Other         1008\n",
       "RPG            983\n",
       "Puzzle         978\n",
       "Platformer     823\n",
       "Simulation     777\n",
       "Fighting       624\n",
       "Games          420\n",
       "Music          373\n",
       "Education        3\n",
       "Name: Type, dtype: int64"
      ]
     },
     "execution_count": 5,
     "metadata": {},
     "output_type": "execute_result"
    }
   ],
   "source": [
    "df[\"Type\"].value_counts()"
   ]
  },
  {
   "cell_type": "code",
   "execution_count": 16,
   "metadata": {},
   "outputs": [
    {
     "data": {
      "text/html": [
       "<div>\n",
       "<style scoped>\n",
       "    .dataframe tbody tr th:only-of-type {\n",
       "        vertical-align: middle;\n",
       "    }\n",
       "\n",
       "    .dataframe tbody tr th {\n",
       "        vertical-align: top;\n",
       "    }\n",
       "\n",
       "    .dataframe thead th {\n",
       "        text-align: right;\n",
       "    }\n",
       "</style>\n",
       "<table border=\"1\" class=\"dataframe\">\n",
       "  <thead>\n",
       "    <tr style=\"text-align: right;\">\n",
       "      <th>Type</th>\n",
       "      <th>Action</th>\n",
       "      <th>Adventure</th>\n",
       "      <th>Education</th>\n",
       "      <th>Fighting</th>\n",
       "      <th>Games</th>\n",
       "      <th>Music</th>\n",
       "      <th>Other</th>\n",
       "      <th>Platformer</th>\n",
       "      <th>Puzzle</th>\n",
       "      <th>RPG</th>\n",
       "      <th>Racing</th>\n",
       "      <th>Shooter</th>\n",
       "      <th>Simulation</th>\n",
       "      <th>Sports</th>\n",
       "      <th>Strategy</th>\n",
       "    </tr>\n",
       "    <tr>\n",
       "      <th>release_year</th>\n",
       "      <th></th>\n",
       "      <th></th>\n",
       "      <th></th>\n",
       "      <th></th>\n",
       "      <th></th>\n",
       "      <th></th>\n",
       "      <th></th>\n",
       "      <th></th>\n",
       "      <th></th>\n",
       "      <th></th>\n",
       "      <th></th>\n",
       "      <th></th>\n",
       "      <th></th>\n",
       "      <th></th>\n",
       "      <th></th>\n",
       "    </tr>\n",
       "  </thead>\n",
       "  <tbody>\n",
       "    <tr>\n",
       "      <th>1970</th>\n",
       "      <td>NaN</td>\n",
       "      <td>1.0</td>\n",
       "      <td>NaN</td>\n",
       "      <td>NaN</td>\n",
       "      <td>NaN</td>\n",
       "      <td>NaN</td>\n",
       "      <td>NaN</td>\n",
       "      <td>NaN</td>\n",
       "      <td>NaN</td>\n",
       "      <td>NaN</td>\n",
       "      <td>NaN</td>\n",
       "      <td>NaN</td>\n",
       "      <td>NaN</td>\n",
       "      <td>NaN</td>\n",
       "      <td>NaN</td>\n",
       "    </tr>\n",
       "    <tr>\n",
       "      <th>1996</th>\n",
       "      <td>37.0</td>\n",
       "      <td>9.0</td>\n",
       "      <td>NaN</td>\n",
       "      <td>20.0</td>\n",
       "      <td>NaN</td>\n",
       "      <td>NaN</td>\n",
       "      <td>5.0</td>\n",
       "      <td>9.0</td>\n",
       "      <td>4.0</td>\n",
       "      <td>1.0</td>\n",
       "      <td>15.0</td>\n",
       "      <td>6.0</td>\n",
       "      <td>6.0</td>\n",
       "      <td>31.0</td>\n",
       "      <td>6.0</td>\n",
       "    </tr>\n",
       "    <tr>\n",
       "      <th>1997</th>\n",
       "      <td>57.0</td>\n",
       "      <td>9.0</td>\n",
       "      <td>NaN</td>\n",
       "      <td>16.0</td>\n",
       "      <td>1.0</td>\n",
       "      <td>1.0</td>\n",
       "      <td>6.0</td>\n",
       "      <td>9.0</td>\n",
       "      <td>6.0</td>\n",
       "      <td>5.0</td>\n",
       "      <td>30.0</td>\n",
       "      <td>11.0</td>\n",
       "      <td>6.0</td>\n",
       "      <td>39.0</td>\n",
       "      <td>9.0</td>\n",
       "    </tr>\n",
       "    <tr>\n",
       "      <th>1998</th>\n",
       "      <td>86.0</td>\n",
       "      <td>12.0</td>\n",
       "      <td>NaN</td>\n",
       "      <td>18.0</td>\n",
       "      <td>6.0</td>\n",
       "      <td>NaN</td>\n",
       "      <td>8.0</td>\n",
       "      <td>20.0</td>\n",
       "      <td>11.0</td>\n",
       "      <td>15.0</td>\n",
       "      <td>43.0</td>\n",
       "      <td>13.0</td>\n",
       "      <td>12.0</td>\n",
       "      <td>69.0</td>\n",
       "      <td>26.0</td>\n",
       "    </tr>\n",
       "    <tr>\n",
       "      <th>1999</th>\n",
       "      <td>194.0</td>\n",
       "      <td>27.0</td>\n",
       "      <td>NaN</td>\n",
       "      <td>29.0</td>\n",
       "      <td>15.0</td>\n",
       "      <td>1.0</td>\n",
       "      <td>19.0</td>\n",
       "      <td>39.0</td>\n",
       "      <td>45.0</td>\n",
       "      <td>34.0</td>\n",
       "      <td>105.0</td>\n",
       "      <td>20.0</td>\n",
       "      <td>32.0</td>\n",
       "      <td>149.0</td>\n",
       "      <td>66.0</td>\n",
       "    </tr>\n",
       "  </tbody>\n",
       "</table>\n",
       "</div>"
      ],
      "text/plain": [
       "Type          Action  Adventure  Education  Fighting  Games  Music  Other  \\\n",
       "release_year                                                                \n",
       "1970             NaN        1.0        NaN       NaN    NaN    NaN    NaN   \n",
       "1996            37.0        9.0        NaN      20.0    NaN    NaN    5.0   \n",
       "1997            57.0        9.0        NaN      16.0    1.0    1.0    6.0   \n",
       "1998            86.0       12.0        NaN      18.0    6.0    NaN    8.0   \n",
       "1999           194.0       27.0        NaN      29.0   15.0    1.0   19.0   \n",
       "\n",
       "Type          Platformer  Puzzle   RPG  Racing  Shooter  Simulation  Sports  \\\n",
       "release_year                                                                  \n",
       "1970                 NaN     NaN   NaN     NaN      NaN         NaN     NaN   \n",
       "1996                 9.0     4.0   1.0    15.0      6.0         6.0    31.0   \n",
       "1997                 9.0     6.0   5.0    30.0     11.0         6.0    39.0   \n",
       "1998                20.0    11.0  15.0    43.0     13.0        12.0    69.0   \n",
       "1999                39.0    45.0  34.0   105.0     20.0        32.0   149.0   \n",
       "\n",
       "Type          Strategy  \n",
       "release_year            \n",
       "1970               NaN  \n",
       "1996               6.0  \n",
       "1997               9.0  \n",
       "1998              26.0  \n",
       "1999              66.0  "
      ]
     },
     "execution_count": 16,
     "metadata": {},
     "output_type": "execute_result"
    }
   ],
   "source": [
    "df1.head()"
   ]
  },
  {
   "cell_type": "markdown",
   "metadata": {},
   "source": [
    "Based on the analysis of the different types of video game genres, we can clearly see that the top 5 game genres are as follows:\n",
    "1. Action\n",
    "2. Sports\n",
    "3. Shooter\n",
    "4. Adventure\n",
    "5. Racing"
   ]
  },
  {
   "cell_type": "code",
   "execution_count": 25,
   "metadata": {},
   "outputs": [
    {
     "data": {
      "text/plain": [
       "<matplotlib.axes._subplots.AxesSubplot at 0x11ba85f28>"
      ]
     },
     "execution_count": 25,
     "metadata": {},
     "output_type": "execute_result"
    },
    {
     "data": {
      "image/png": "[encoded data removed]",
      "text/plain": [
       "<Figure size 720x720 with 1 Axes>"
      ]
     },
     "metadata": {},
     "output_type": "display_data"
    }
   ],
   "source": [
    "df.genre.value_counts()[:5].plot.pie(figsize=(10,10))"
   ]
  },
  {
   "cell_type": "code",
   "execution_count": 26,
   "metadata": {},
   "outputs": [
    {
     "data": {
      "text/plain": [
       "Great          4773\n",
       "Good           4741\n",
       "Okay           2945\n",
       "Mediocre       1959\n",
       "Amazing        1804\n",
       "Bad            1269\n",
       "Awful           664\n",
       "Painful         340\n",
       "Unbearable       72\n",
       "Masterpiece      55\n",
       "Disaster          3\n",
       "Name: score_phrase, dtype: int64"
      ]
     },
     "execution_count": 26,
     "metadata": {},
     "output_type": "execute_result"
    }
   ],
   "source": [
    "df[\"score_phrase\"].value_counts()"
   ]
  },
  {
   "cell_type": "code",
   "execution_count": 29,
   "metadata": {},
   "outputs": [],
   "source": [
    "positivescorephrase = [\"Great\", \"Good\", \"Masterpiece\", \"Amazing\"]\n",
    "neutralscorephrase = [\"Medicore\", \"Okay\"]\n",
    "negativescorephrase = [\"Bad\",\"Disaster\",\"Awful\",\"Painful\",\"Unbearable\"]\n",
    "def mapping(item):\n",
    "    if item in positivescorephrase:\n",
    "        return \"positivescorephrase\"\n",
    "    if item in neutralscorephrase:\n",
    "        return \"neutralscorephrase\"\n",
    "    if item in negativescorephrase:\n",
    "        return \"negativescorephrase\"\n",
    "df[\"scorephrasetype\"] = df[\"score_phrase\"].map(mapping)"
   ]
  },
  {
   "cell_type": "code",
   "execution_count": 33,
   "metadata": {},
   "outputs": [
    {
     "data": {
      "text/plain": [
       "positivescorephrase    11373\n",
       "neutralscorephrase      2945\n",
       "negativescorephrase     2348\n",
       "Name: scorephrasetype, dtype: int64"
      ]
     },
     "execution_count": 33,
     "metadata": {},
     "output_type": "execute_result"
    }
   ],
   "source": [
    "df[\"scorephrasetype\"].value_counts()"
   ]
  },
  {
   "cell_type": "markdown",
   "metadata": {},
   "source": [
    "What would it look like if we took the data above and threw them into a piechart?  What would we see as the top scoring mechanism for the games?"
   ]
  },
  {
   "cell_type": "code",
   "execution_count": 43,
   "metadata": {},
   "outputs": [
    {
     "data": {
      "text/plain": [
       "<matplotlib.axes._subplots.AxesSubplot at 0x11bed0e10>"
      ]
     },
     "execution_count": 43,
     "metadata": {},
     "output_type": "execute_result"
    },
    {
     "data": {
      "image/png": "[encoded data removed]",
      "text/plain": [
       "<Figure size 720x720 with 1 Axes>"
      ]
     },
     "metadata": {},
     "output_type": "display_data"
    }
   ],
   "source": [
    "df.scorephrasetype.value_counts().plot.pie(figsize=(10,10))"
   ]
  },
  {
   "cell_type": "markdown",
   "metadata": {},
   "source": [
    "Based on the pie chart above, we see that most games have received a postive score.  Given the amount of games that have been released, it is not surprising to see that it is mostly positive.  However, as we go through the data in more detail, it is my intent to see if we can find trends within genres, platforms, and even release years. "
   ]
  },
  {
   "cell_type": "markdown",
   "metadata": {},
   "source": [
    "It is now time for us to dive into the different types of gaming platforms.  We will first take the raw data from the data set and then map them into smaller groups for easier consumption.  What happens if we dig a little deper into this data?"
   ]
  },
  {
   "cell_type": "code",
   "execution_count": 35,
   "metadata": {},
   "outputs": [
    {
     "data": {
      "text/plain": [
       "PC                      3370\n",
       "PlayStation 2           1686\n",
       "Xbox 360                1631\n",
       "Wii                     1366\n",
       "PlayStation 3           1356\n",
       "Nintendo DS             1045\n",
       "PlayStation              952\n",
       "Wireless                 910\n",
       "iPhone                   842\n",
       "Xbox                     821\n",
       "PlayStation Portable     633\n",
       "Game Boy Advance         623\n",
       "GameCube                 509\n",
       "Game Boy Color           356\n",
       "Nintendo 64              302\n",
       "Dreamcast                286\n",
       "PlayStation 4            277\n",
       "Nintendo DSi             254\n",
       "Nintendo 3DS             225\n",
       "Xbox One                 208\n",
       "PlayStation Vita         155\n",
       "Wii U                    114\n",
       "iPad                      99\n",
       "Lynx                      82\n",
       "Macintosh                 81\n",
       "Genesis                   58\n",
       "NES                       49\n",
       "TurboGrafx-16             40\n",
       "Android                   39\n",
       "Super NES                 33\n",
       "NeoGeo Pocket Color       31\n",
       "N-Gage                    30\n",
       "Game Boy                  22\n",
       "iPod                      17\n",
       "Sega 32X                  16\n",
       "Windows Phone             14\n",
       "Master System             13\n",
       "Arcade                    11\n",
       "Linux                     10\n",
       "NeoGeo                    10\n",
       "Nintendo 64DD              7\n",
       "Saturn                     6\n",
       "Commodore 64/128           6\n",
       "Atari 2600                 5\n",
       "WonderSwan                 4\n",
       "Game.Com                   3\n",
       "TurboGrafx-CD              3\n",
       "Atari 5200                 2\n",
       "Vectrex                    2\n",
       "New Nintendo 3DS           2\n",
       "Windows Surface            1\n",
       "Dreamcast VMU              1\n",
       "Ouya                       1\n",
       "WonderSwan Color           1\n",
       "Sega CD                    1\n",
       "Pocket PC                  1\n",
       "SteamOS                    1\n",
       "Web Games                  1\n",
       "DVD / HD Video Game        1\n",
       "Name: platform, dtype: int64"
      ]
     },
     "execution_count": 35,
     "metadata": {},
     "output_type": "execute_result"
    }
   ],
   "source": [
    "df['platform'].value_counts()"
   ]
  },
  {
   "cell_type": "code",
   "execution_count": 36,
   "metadata": {},
   "outputs": [],
   "source": [
    "PC = ['PC', 'Macintosh', 'Linux', 'Web Games', 'SteamOS']\n",
    "mobile = ['iPad', 'iPhone', 'Android', 'Wireless', 'iPod', 'Commodore 64/128', 'Windows Phone', 'Windows Surface']\n",
    "console = ['Saturn', 'Xbox 360', 'PlayStation 3', 'Wii', 'PlayStation 4', 'PlayStation', 'Nintendo 64', \\\n",
    "           'Dreamcast', 'Arcade', 'Nintendo 64DD', 'PlayStation 2', 'Xbox', 'GameCube', 'DVD / HD Video Game', \\\n",
    "           'NES', 'Genesis', 'TurboGrafx-16', 'Super NES', 'Master System', 'NeoGeo', 'Atari 5200', 'TurboGrafx-CD', \\\n",
    "           'Atari 2600', 'Sega 32X', 'Vectrex', 'Sega CD',  'Xbox One', 'Ouya', ]\n",
    "hand_console = ['PlayStation Vita', 'Nintendo DS', 'Nintendo 3DS', 'Wii U', 'PlayStation Portable', 'Lynx', \\\n",
    "                'Game Boy', 'Game Boy Color', 'NeoGeo Pocket Color', 'Game.Com', 'Dreamcast VMU', 'WonderSwan', \\\n",
    "                'WonderSwan Color', 'Game Boy Advance', 'Pocket PC', 'N-Gage',  'Nintendo DSi', 'New Nintendo 3DS']"
   ]
  },
  {
   "cell_type": "code",
   "execution_count": 38,
   "metadata": {},
   "outputs": [],
   "source": [
    "def map_platform(platform):\n",
    "    if platform in PC:\n",
    "        return 'PC'\n",
    "    if platform in mobile:\n",
    "        return 'mobile'\n",
    "    if platform in console:\n",
    "        return 'console'\n",
    "    if platform in hand_console:\n",
    "        return 'hand_console'\n",
    "    return \"Other\""
   ]
  },
  {
   "cell_type": "code",
   "execution_count": 40,
   "metadata": {},
   "outputs": [],
   "source": [
    "class_df = df.copy()\n",
    "class_df['platform'] = df['platform'].apply(map_platform)"
   ]
  },
  {
   "cell_type": "code",
   "execution_count": 41,
   "metadata": {},
   "outputs": [
    {
     "data": {
      "text/plain": [
       "Text(0, 0.5, '')"
      ]
     },
     "execution_count": 41,
     "metadata": {},
     "output_type": "execute_result"
    },
    {
     "data": {
      "image/png": "[encoded data removed]",
      "text/plain": [
       "<Figure size 360x360 with 1 Axes>"
      ]
     },
     "metadata": {},
     "output_type": "display_data"
    }
   ],
   "source": [
    "fig1, ax1 = plt.subplots(figsize=(5,5))\n",
    "class_df['platform'].value_counts().plot.pie(shadow=True, autopct='%1.1f%%', startangle=90, \\\n",
    "                                            explode=[0.1, 0, 0, 0], ax=ax1)\n",
    "ax1.set_title('Top Platforms')\n",
    "ax1.set_ylabel('')"
   ]
  },
  {
   "cell_type": "markdown",
   "metadata": {},
   "source": [
    "The pie chart above shows that console based games have the greatest number of releases.  However, I would like to do further analysis to see what this actually means.  If focus on the average rating of the games per platform, will we be able to see a trend as to what sorts of games are ranked higher?  Is there methodology we can employ to predict what sort of game will do well in a certain month based on past trends?"
   ]
  }
 ],
 "metadata": {
  "kernelspec": {
   "display_name": "Python 3",
   "language": "python",
   "name": "python3"
  },
  "language_info": {
   "codemirror_mode": {
    "name": "ipython",
    "version": 3
   },
   "file_extension": ".py",
   "mimetype": "text/x-python",
   "name": "python",
   "nbconvert_exporter": "python",
   "pygments_lexer": "ipython3",
   "version": "3.7.0"
  }
 },
 "nbformat": 4,
 "nbformat_minor": 2
}
